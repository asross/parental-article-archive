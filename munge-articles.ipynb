{
 "cells": [
  {
   "cell_type": "code",
   "execution_count": 1,
   "id": "65118e51-1250-440b-95e2-b0b5dfb74393",
   "metadata": {},
   "outputs": [],
   "source": [
    "import json\n",
    "from bs4 import BeautifulSoup\n",
    "import html\n",
    "import re"
   ]
  },
  {
   "cell_type": "code",
   "execution_count": 2,
   "id": "f183f829-8959-4b5a-8262-b2af188e0e6e",
   "metadata": {},
   "outputs": [],
   "source": [
    "b = json.load(open('barbara.json'))"
   ]
  },
  {
   "cell_type": "code",
   "execution_count": 3,
   "id": "28a838bc-6f1e-434e-a45f-c5603a70abbb",
   "metadata": {},
   "outputs": [],
   "source": [
    "m = json.load(open('michael.json'))"
   ]
  },
  {
   "cell_type": "code",
   "execution_count": 4,
   "id": "da5a2295-ec92-4a70-b4fe-2a5c9841685d",
   "metadata": {},
   "outputs": [],
   "source": [
    "def munge_text(text):\n",
    "    text = re.sub('<[^<]+?>', '', text)\n",
    "    text = html.unescape(text)\n",
    "    soup = BeautifulSoup(text)\n",
    "    if soup.find('body'):\n",
    "        soup = soup.find('body')\n",
    "    text = \"\\n\".join([c.prettify() for c in soup.contents if len(str(c)) > 1 and c.name != 'div'])\n",
    "    text = text.replace(\"``\", \"\\\"\")\n",
    "    text = text.replace(\"''\", \"\\\"\")\n",
    "    return text"
   ]
  },
  {
   "cell_type": "code",
   "execution_count": 5,
   "id": "b7cb65bf-6925-4677-9677-59af56029645",
   "metadata": {},
   "outputs": [],
   "source": [
    "b2 = []\n",
    "titles = set()\n",
    "for bi in b:\n",
    "    try:\n",
    "        if bi['title'] in titles:\n",
    "            continue\n",
    "        titles.add(bi['title'])\n",
    "        bi['text'] = munge_text(bi['text'])\n",
    "        bi['author'] = 'Barbara Slavin'\n",
    "        b2.append(bi)\n",
    "    except:\n",
    "        import pdb; pdb.set_trace()\n",
    "        5"
   ]
  },
  {
   "cell_type": "code",
   "execution_count": 6,
   "id": "a4314321-7993-45fd-a068-80ce8496c7c6",
   "metadata": {},
   "outputs": [],
   "source": [
    "m2 = []\n",
    "titles = set()\n",
    "for mi in m:\n",
    "    if mi['title'] in titles:\n",
    "        continue\n",
    "    titles.add(mi['title'])\n",
    "    mi['text'] = munge_text(mi['text'])\n",
    "    mi['author'] = 'Michael Ross'\n",
    "    m2.append(mi)"
   ]
  },
  {
   "cell_type": "code",
   "execution_count": 7,
   "id": "16655ff5-04c2-48f0-86ba-a065aa3e4276",
   "metadata": {},
   "outputs": [],
   "source": [
    "!mkdir -p _data"
   ]
  },
  {
   "cell_type": "code",
   "execution_count": 8,
   "id": "703e307e-4580-4594-a873-15cb04a72cdf",
   "metadata": {},
   "outputs": [],
   "source": [
    "with open('_data/michael.json', 'w') as f:\n",
    "    f.write(json.dumps([mi for mi in sorted(m2, key=lambda mi: mi['date']) if mi['date'] > '1980-01-01'], indent=4))"
   ]
  },
  {
   "cell_type": "code",
   "execution_count": 9,
   "id": "50865db8-7270-43e3-b93b-706f0ffea859",
   "metadata": {},
   "outputs": [],
   "source": [
    "with open('_data/barbara.json', 'w') as f:\n",
    "    f.write(json.dumps(sorted(b2, key=lambda bi: bi['date']), indent=4))"
   ]
  },
  {
   "cell_type": "code",
   "execution_count": null,
   "id": "400600d7-c3c6-4830-b0df-b717beb1f647",
   "metadata": {},
   "outputs": [],
   "source": []
  }
 ],
 "metadata": {
  "kernelspec": {
   "display_name": "Python 3 (ipykernel)",
   "language": "python",
   "name": "python3"
  },
  "language_info": {
   "codemirror_mode": {
    "name": "ipython",
    "version": 3
   },
   "file_extension": ".py",
   "mimetype": "text/x-python",
   "name": "python",
   "nbconvert_exporter": "python",
   "pygments_lexer": "ipython3",
   "version": "3.11.9"
  }
 },
 "nbformat": 4,
 "nbformat_minor": 5
}
