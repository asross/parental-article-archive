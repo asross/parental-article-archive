{
 "cells": [
  {
   "cell_type": "code",
   "execution_count": 3,
   "id": "65118e51-1250-440b-95e2-b0b5dfb74393",
   "metadata": {},
   "outputs": [],
   "source": [
    "import json\n",
    "from bs4 import BeautifulSoup\n",
    "import html\n",
    "import re"
   ]
  },
  {
   "cell_type": "code",
   "execution_count": 4,
   "id": "f183f829-8959-4b5a-8262-b2af188e0e6e",
   "metadata": {},
   "outputs": [],
   "source": [
    "b = json.load(open('barbara.json'))"
   ]
  },
  {
   "cell_type": "code",
   "execution_count": 5,
   "id": "28a838bc-6f1e-434e-a45f-c5603a70abbb",
   "metadata": {},
   "outputs": [],
   "source": [
    "m = json.load(open('michael.json'))"
   ]
  },
  {
   "cell_type": "code",
   "execution_count": 6,
   "id": "da5a2295-ec92-4a70-b4fe-2a5c9841685d",
   "metadata": {},
   "outputs": [],
   "source": [
    "def munge_text(text):\n",
    "    text = re.sub('<[^<]+?>', '', text)\n",
    "    text = html.unescape(text)\n",
    "    soup = BeautifulSoup(text)\n",
    "    if soup.find('body'):\n",
    "        soup = soup.find('body')\n",
    "    text = \"\\n\".join([c.prettify() for c in soup.contents if len(str(c)) > 1 and c.name != 'div'])\n",
    "    text = text.replace(\"``\", \"\\\"\")\n",
    "    text = text.replace(\"''\", \"\\\"\")\n",
    "    return text"
   ]
  },
  {
   "cell_type": "code",
   "execution_count": 16,
   "id": "ae9560d4-879f-4984-8ac0-7b16d55d9dce",
   "metadata": {},
   "outputs": [],
   "source": [
    "from difflib import SequenceMatcher\n",
    "\n",
    "def similar(a, b):\n",
    "    return SequenceMatcher(None, a.lower().strip(), b.lower().strip()).ratio()\n",
    "\n",
    "def norm(s):\n",
    "    return re.sub(r'[^\\w]', '', s)\n",
    "\n",
    "def similar_enough(a,b):\n",
    "    if norm(a) in norm(b):\n",
    "        return True\n",
    "    elif norm(b) in norm(a):\n",
    "        return True\n",
    "    else:\n",
    "        return similar(a,b) > 0.75"
   ]
  },
  {
   "cell_type": "code",
   "execution_count": 8,
   "id": "b41f5be8-2278-4eff-b224-cac0fc764436",
   "metadata": {},
   "outputs": [],
   "source": [
    "def first_graf(s):\n",
    "    return s"
   ]
  },
  {
   "cell_type": "code",
   "execution_count": 17,
   "id": "53a2c900-b29d-416f-9662-0a99649cfa00",
   "metadata": {},
   "outputs": [],
   "source": [
    "from collections import defaultdict\n",
    "\n",
    "def munge_pub(pub):\n",
    "    return re.sub(r'\\s*\\([^\\)]*\\)\\s*', '', pub).strip().replace('LAT', 'Los Angeles Times')\n",
    "\n",
    "def handle_articles(articles, author):\n",
    "    res = {}\n",
    "    titles = {}\n",
    "    dates = {}\n",
    "    i = 0\n",
    "    for a_ in articles:\n",
    "        a = dict(a_)\n",
    "        a['pub'] = munge_pub(a['pub'])\n",
    "        if a['title'] in titles:\n",
    "            id = titles[a['title']]\n",
    "            existing = res[id]\n",
    "            if similar_enough(existing['date'], a['date']) or similar_enough(first_graf(existing['text']), first_graf(a['text'])):\n",
    "                res[id]['pub'] = list(set(res[id]['pub'] + [a['pub']]))\n",
    "                continue\n",
    "        if a['date'] in dates:\n",
    "            id = dates[a['date']]\n",
    "            existing = res[id]\n",
    "            if similar_enough(existing['title'], a['title']) or similar_enough(first_graf(existing['text']), first_graf(a['text'])):\n",
    "                res[id]['pub'] = list(set(res[id]['pub'] + [a['pub']]))\n",
    "                continue\n",
    "        a['id'] = i\n",
    "        titles[a['title']] = i\n",
    "        dates[a['date']] = i\n",
    "        a['text'] = munge_text(a['text'])\n",
    "        a['author'] = author\n",
    "        a['pub'] = [a['pub']]\n",
    "        res[i] = a\n",
    "        i += 1\n",
    "\n",
    "    return list(res.values())"
   ]
  },
  {
   "cell_type": "code",
   "execution_count": 18,
   "id": "831b38f9-0794-4228-befb-f41eaa804dd0",
   "metadata": {},
   "outputs": [],
   "source": [
    "b2 = handle_articles(b, 'Barbara Slavin')"
   ]
  },
  {
   "cell_type": "code",
   "execution_count": 19,
   "id": "a54a06f0-1006-41bd-9efc-f4afe8ecad0e",
   "metadata": {},
   "outputs": [],
   "source": [
    "m2 = handle_articles(m, 'Michael Ross')"
   ]
  },
  {
   "cell_type": "code",
   "execution_count": 20,
   "id": "16655ff5-04c2-48f0-86ba-a065aa3e4276",
   "metadata": {},
   "outputs": [],
   "source": [
    "!mkdir -p _data"
   ]
  },
  {
   "cell_type": "code",
   "execution_count": 21,
   "id": "703e307e-4580-4594-a873-15cb04a72cdf",
   "metadata": {},
   "outputs": [],
   "source": [
    "with open('_data/michael.json', 'w') as f:\n",
    "    f.write(json.dumps([mi for mi in sorted(m2, key=lambda mi: mi['date']) if mi['date'] > '1980-01-01'], indent=4))"
   ]
  },
  {
   "cell_type": "code",
   "execution_count": 22,
   "id": "50865db8-7270-43e3-b93b-706f0ffea859",
   "metadata": {},
   "outputs": [],
   "source": [
    "with open('_data/barbara.json', 'w') as f:\n",
    "    f.write(json.dumps(sorted(b2, key=lambda bi: bi['date']), indent=4))"
   ]
  },
  {
   "cell_type": "code",
   "execution_count": null,
   "id": "400600d7-c3c6-4830-b0df-b717beb1f647",
   "metadata": {},
   "outputs": [],
   "source": []
  }
 ],
 "metadata": {
  "kernelspec": {
   "display_name": "Python 3 (ipykernel)",
   "language": "python",
   "name": "python3"
  },
  "language_info": {
   "codemirror_mode": {
    "name": "ipython",
    "version": 3
   },
   "file_extension": ".py",
   "mimetype": "text/x-python",
   "name": "python",
   "nbconvert_exporter": "python",
   "pygments_lexer": "ipython3",
   "version": "3.11.9"
  }
 },
 "nbformat": 4,
 "nbformat_minor": 5
}
